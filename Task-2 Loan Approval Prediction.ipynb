{
 "cells": [
  {
   "cell_type": "code",
   "execution_count": 22,
   "id": "b9e08e64",
   "metadata": {},
   "outputs": [
    {
     "name": "stdout",
     "output_type": "stream",
     "text": [
      "Requirement already satisfied: kagglehub in c:\\users\\rakes\\anaconda3\\lib\\site-packages (0.3.10)\n",
      "Requirement already satisfied: packaging in c:\\users\\rakes\\anaconda3\\lib\\site-packages (from kagglehub) (24.1)\n",
      "Requirement already satisfied: pyyaml in c:\\users\\rakes\\anaconda3\\lib\\site-packages (from kagglehub) (6.0)\n",
      "Requirement already satisfied: requests in c:\\users\\rakes\\anaconda3\\lib\\site-packages (from kagglehub) (2.31.0)\n",
      "Requirement already satisfied: tqdm in c:\\users\\rakes\\anaconda3\\lib\\site-packages (from kagglehub) (4.65.0)\n",
      "Requirement already satisfied: charset-normalizer<4,>=2 in c:\\users\\rakes\\anaconda3\\lib\\site-packages (from requests->kagglehub) (2.0.4)\n",
      "Requirement already satisfied: idna<4,>=2.5 in c:\\users\\rakes\\anaconda3\\lib\\site-packages (from requests->kagglehub) (3.4)\n",
      "Requirement already satisfied: urllib3<3,>=1.21.1 in c:\\users\\rakes\\anaconda3\\lib\\site-packages (from requests->kagglehub) (1.26.16)\n",
      "Requirement already satisfied: certifi>=2017.4.17 in c:\\users\\rakes\\anaconda3\\lib\\site-packages (from requests->kagglehub) (2023.11.17)\n",
      "Requirement already satisfied: colorama in c:\\users\\rakes\\anaconda3\\lib\\site-packages (from tqdm->kagglehub) (0.4.6)\n"
     ]
    }
   ],
   "source": [
    "!pip install kagglehub"
   ]
  },
  {
   "cell_type": "code",
   "execution_count": 23,
   "id": "74b39c21",
   "metadata": {},
   "outputs": [
    {
     "name": "stdout",
     "output_type": "stream",
     "text": [
      "Requirement already satisfied: xgboost in c:\\users\\rakes\\anaconda3\\lib\\site-packages (2.1.4)\n",
      "Requirement already satisfied: numpy in c:\\users\\rakes\\anaconda3\\lib\\site-packages (from xgboost) (1.24.3)\n",
      "Requirement already satisfied: scipy in c:\\users\\rakes\\anaconda3\\lib\\site-packages (from xgboost) (1.11.1)\n"
     ]
    }
   ],
   "source": [
    "!pip install xgboost"
   ]
  },
  {
   "cell_type": "code",
   "execution_count": 24,
   "id": "bfe5a4fd",
   "metadata": {},
   "outputs": [
    {
     "name": "stdout",
     "output_type": "stream",
     "text": [
      "Path to dataset files: C:\\Users\\rakes\\.cache\\kagglehub\\datasets\\bhanupratapbiswas\\loan-approval-prediction-case-study\\versions\\1\n"
     ]
    }
   ],
   "source": [
    "import kagglehub\n",
    "\n",
    "# Download latest version\n",
    "path = kagglehub.dataset_download(\"bhanupratapbiswas/loan-approval-prediction-case-study\")\n",
    "\n",
    "print(\"Path to dataset files:\", path)"
   ]
  },
  {
   "cell_type": "code",
   "execution_count": 37,
   "id": "1e6ff51a",
   "metadata": {},
   "outputs": [
    {
     "name": "stdout",
     "output_type": "stream",
     "text": [
      "   S.NO   Loan_ID Gender Married Dependents     Education Self_Employed  \\\n",
      "0     0  LP001002   Male      No          0      Graduate            No   \n",
      "1     1  LP001003   Male     Yes          1      Graduate            No   \n",
      "2     2  LP001005   Male     Yes          0      Graduate           Yes   \n",
      "3     3  LP001006   Male     Yes          0  Not Graduate            No   \n",
      "4     4  LP001008   Male      No          0      Graduate            No   \n",
      "\n",
      "   ApplicantIncome  CoapplicantIncome  LoanAmount  Loan_Amount_Term  \\\n",
      "0             5849                0.0         NaN             360.0   \n",
      "1             4583             1508.0       128.0             360.0   \n",
      "2             3000                0.0        66.0             360.0   \n",
      "3             2583             2358.0       120.0             360.0   \n",
      "4             6000                0.0       141.0             360.0   \n",
      "\n",
      "   Credit_History Property_Area Loan_Status  \n",
      "0             1.0         Urban           Y  \n",
      "1             1.0         Rural           N  \n",
      "2             1.0         Urban           Y  \n",
      "3             1.0         Urban           Y  \n",
      "4             1.0         Urban           Y  \n",
      "<class 'pandas.core.frame.DataFrame'>\n",
      "RangeIndex: 614 entries, 0 to 613\n",
      "Data columns (total 14 columns):\n",
      " #   Column             Non-Null Count  Dtype  \n",
      "---  ------             --------------  -----  \n",
      " 0   S.NO               614 non-null    int64  \n",
      " 1   Loan_ID            614 non-null    object \n",
      " 2   Gender             601 non-null    object \n",
      " 3   Married            611 non-null    object \n",
      " 4   Dependents         599 non-null    object \n",
      " 5   Education          614 non-null    object \n",
      " 6   Self_Employed      582 non-null    object \n",
      " 7   ApplicantIncome    614 non-null    int64  \n",
      " 8   CoapplicantIncome  614 non-null    float64\n",
      " 9   LoanAmount         592 non-null    float64\n",
      " 10  Loan_Amount_Term   600 non-null    float64\n",
      " 11  Credit_History     564 non-null    float64\n",
      " 12  Property_Area      614 non-null    object \n",
      " 13  Loan_Status        614 non-null    object \n",
      "dtypes: float64(4), int64(2), object(8)\n",
      "memory usage: 67.3+ KB\n",
      "None\n"
     ]
    }
   ],
   "source": [
    "# Import necessary libraries\n",
    "import pandas as pd\n",
    "import numpy as np\n",
    "import matplotlib.pyplot as plt\n",
    "import seaborn as sns\n",
    "from sklearn.model_selection import train_test_split, GridSearchCV\n",
    "from sklearn.preprocessing import StandardScaler, LabelEncoder\n",
    "from sklearn.impute import SimpleImputer\n",
    "from sklearn.ensemble import RandomForestClassifier\n",
    "from xgboost import XGBClassifier\n",
    "from sklearn.metrics import accuracy_score, classification_report, confusion_matrix, roc_auc_score\n",
    "\n",
    "# Load the dataset\n",
    "df = pd.read_csv(r\"C:\\Users\\rakes\\Downloads\\archive (9)\\loan_prediction2.csv\")  # Replace with your dataset path\n",
    "\n",
    "# Display dataset info\n",
    "print(df.head())\n",
    "print(df.info())\n",
    "\n"
   ]
  },
  {
   "cell_type": "code",
   "execution_count": 38,
   "id": "20207bd2",
   "metadata": {},
   "outputs": [],
   "source": [
    "# Step 1: Handle Missing Values\n",
    "imputer = SimpleImputer(strategy='most_frequent')  # Impute missing categorical values with mode\n",
    "df_imputed = pd.DataFrame(imputer.fit_transform(df), columns=df.columns)\n",
    "\n"
   ]
  },
  {
   "cell_type": "code",
   "execution_count": 39,
   "id": "cedc1f18",
   "metadata": {},
   "outputs": [],
   "source": [
    "# Step 2: Encode Categorical Variables\n",
    "label_encoders = {}\n",
    "for col in df_imputed.select_dtypes(include=['object']).columns:\n",
    "    le = LabelEncoder()\n",
    "    df_imputed[col] = le.fit_transform(df_imputed[col])\n",
    "    label_encoders[col] = le  # Store encoders for inverse transform if needed\n"
   ]
  },
  {
   "cell_type": "code",
   "execution_count": 40,
   "id": "29205f63",
   "metadata": {},
   "outputs": [
    {
     "data": {
      "text/html": [
       "<div>\n",
       "<style scoped>\n",
       "    .dataframe tbody tr th:only-of-type {\n",
       "        vertical-align: middle;\n",
       "    }\n",
       "\n",
       "    .dataframe tbody tr th {\n",
       "        vertical-align: top;\n",
       "    }\n",
       "\n",
       "    .dataframe thead th {\n",
       "        text-align: right;\n",
       "    }\n",
       "</style>\n",
       "<table border=\"1\" class=\"dataframe\">\n",
       "  <thead>\n",
       "    <tr style=\"text-align: right;\">\n",
       "      <th></th>\n",
       "      <th>Married</th>\n",
       "      <th>Dependents</th>\n",
       "      <th>Education</th>\n",
       "      <th>Self_Employed</th>\n",
       "      <th>ApplicantIncome</th>\n",
       "      <th>CoapplicantIncome</th>\n",
       "      <th>LoanAmount</th>\n",
       "      <th>Loan_Amount_Term</th>\n",
       "      <th>Credit_History</th>\n",
       "      <th>Property_Area</th>\n",
       "      <th>Loan_Status</th>\n",
       "    </tr>\n",
       "  </thead>\n",
       "  <tbody>\n",
       "    <tr>\n",
       "      <th>0</th>\n",
       "      <td>0</td>\n",
       "      <td>0</td>\n",
       "      <td>0</td>\n",
       "      <td>0</td>\n",
       "      <td>376</td>\n",
       "      <td>0</td>\n",
       "      <td>73</td>\n",
       "      <td>8</td>\n",
       "      <td>1</td>\n",
       "      <td>2</td>\n",
       "      <td>1</td>\n",
       "    </tr>\n",
       "    <tr>\n",
       "      <th>1</th>\n",
       "      <td>1</td>\n",
       "      <td>1</td>\n",
       "      <td>0</td>\n",
       "      <td>0</td>\n",
       "      <td>306</td>\n",
       "      <td>60</td>\n",
       "      <td>81</td>\n",
       "      <td>8</td>\n",
       "      <td>1</td>\n",
       "      <td>0</td>\n",
       "      <td>0</td>\n",
       "    </tr>\n",
       "    <tr>\n",
       "      <th>2</th>\n",
       "      <td>1</td>\n",
       "      <td>0</td>\n",
       "      <td>0</td>\n",
       "      <td>1</td>\n",
       "      <td>139</td>\n",
       "      <td>0</td>\n",
       "      <td>26</td>\n",
       "      <td>8</td>\n",
       "      <td>1</td>\n",
       "      <td>2</td>\n",
       "      <td>1</td>\n",
       "    </tr>\n",
       "    <tr>\n",
       "      <th>3</th>\n",
       "      <td>1</td>\n",
       "      <td>0</td>\n",
       "      <td>1</td>\n",
       "      <td>0</td>\n",
       "      <td>90</td>\n",
       "      <td>160</td>\n",
       "      <td>73</td>\n",
       "      <td>8</td>\n",
       "      <td>1</td>\n",
       "      <td>2</td>\n",
       "      <td>1</td>\n",
       "    </tr>\n",
       "    <tr>\n",
       "      <th>4</th>\n",
       "      <td>0</td>\n",
       "      <td>0</td>\n",
       "      <td>0</td>\n",
       "      <td>0</td>\n",
       "      <td>381</td>\n",
       "      <td>0</td>\n",
       "      <td>94</td>\n",
       "      <td>8</td>\n",
       "      <td>1</td>\n",
       "      <td>2</td>\n",
       "      <td>1</td>\n",
       "    </tr>\n",
       "    <tr>\n",
       "      <th>...</th>\n",
       "      <td>...</td>\n",
       "      <td>...</td>\n",
       "      <td>...</td>\n",
       "      <td>...</td>\n",
       "      <td>...</td>\n",
       "      <td>...</td>\n",
       "      <td>...</td>\n",
       "      <td>...</td>\n",
       "      <td>...</td>\n",
       "      <td>...</td>\n",
       "      <td>...</td>\n",
       "    </tr>\n",
       "    <tr>\n",
       "      <th>609</th>\n",
       "      <td>0</td>\n",
       "      <td>0</td>\n",
       "      <td>0</td>\n",
       "      <td>0</td>\n",
       "      <td>125</td>\n",
       "      <td>0</td>\n",
       "      <td>29</td>\n",
       "      <td>8</td>\n",
       "      <td>1</td>\n",
       "      <td>0</td>\n",
       "      <td>1</td>\n",
       "    </tr>\n",
       "    <tr>\n",
       "      <th>610</th>\n",
       "      <td>1</td>\n",
       "      <td>3</td>\n",
       "      <td>0</td>\n",
       "      <td>0</td>\n",
       "      <td>275</td>\n",
       "      <td>0</td>\n",
       "      <td>7</td>\n",
       "      <td>5</td>\n",
       "      <td>1</td>\n",
       "      <td>0</td>\n",
       "      <td>1</td>\n",
       "    </tr>\n",
       "    <tr>\n",
       "      <th>611</th>\n",
       "      <td>1</td>\n",
       "      <td>1</td>\n",
       "      <td>0</td>\n",
       "      <td>0</td>\n",
       "      <td>431</td>\n",
       "      <td>3</td>\n",
       "      <td>162</td>\n",
       "      <td>8</td>\n",
       "      <td>1</td>\n",
       "      <td>2</td>\n",
       "      <td>1</td>\n",
       "    </tr>\n",
       "    <tr>\n",
       "      <th>612</th>\n",
       "      <td>1</td>\n",
       "      <td>2</td>\n",
       "      <td>0</td>\n",
       "      <td>0</td>\n",
       "      <td>422</td>\n",
       "      <td>0</td>\n",
       "      <td>132</td>\n",
       "      <td>8</td>\n",
       "      <td>1</td>\n",
       "      <td>2</td>\n",
       "      <td>1</td>\n",
       "    </tr>\n",
       "    <tr>\n",
       "      <th>613</th>\n",
       "      <td>0</td>\n",
       "      <td>0</td>\n",
       "      <td>0</td>\n",
       "      <td>1</td>\n",
       "      <td>306</td>\n",
       "      <td>0</td>\n",
       "      <td>86</td>\n",
       "      <td>8</td>\n",
       "      <td>0</td>\n",
       "      <td>1</td>\n",
       "      <td>0</td>\n",
       "    </tr>\n",
       "  </tbody>\n",
       "</table>\n",
       "<p>614 rows × 11 columns</p>\n",
       "</div>"
      ],
      "text/plain": [
       "     Married  Dependents  Education  Self_Employed  ApplicantIncome  \\\n",
       "0          0           0          0              0              376   \n",
       "1          1           1          0              0              306   \n",
       "2          1           0          0              1              139   \n",
       "3          1           0          1              0               90   \n",
       "4          0           0          0              0              381   \n",
       "..       ...         ...        ...            ...              ...   \n",
       "609        0           0          0              0              125   \n",
       "610        1           3          0              0              275   \n",
       "611        1           1          0              0              431   \n",
       "612        1           2          0              0              422   \n",
       "613        0           0          0              1              306   \n",
       "\n",
       "     CoapplicantIncome  LoanAmount  Loan_Amount_Term  Credit_History  \\\n",
       "0                    0          73                 8               1   \n",
       "1                   60          81                 8               1   \n",
       "2                    0          26                 8               1   \n",
       "3                  160          73                 8               1   \n",
       "4                    0          94                 8               1   \n",
       "..                 ...         ...               ...             ...   \n",
       "609                  0          29                 8               1   \n",
       "610                  0           7                 5               1   \n",
       "611                  3         162                 8               1   \n",
       "612                  0         132                 8               1   \n",
       "613                  0          86                 8               0   \n",
       "\n",
       "     Property_Area  Loan_Status  \n",
       "0                2            1  \n",
       "1                0            0  \n",
       "2                2            1  \n",
       "3                2            1  \n",
       "4                2            1  \n",
       "..             ...          ...  \n",
       "609              0            1  \n",
       "610              0            1  \n",
       "611              2            1  \n",
       "612              2            1  \n",
       "613              1            0  \n",
       "\n",
       "[614 rows x 11 columns]"
      ]
     },
     "execution_count": 40,
     "metadata": {},
     "output_type": "execute_result"
    }
   ],
   "source": [
    "# Step 3: Define Features and Target\n",
    "# Drop unnecessary columns\n",
    "df_imputed = df_imputed.drop(columns=['S.NO','Loan_ID', 'Gender'])\n",
    "X = df_imputed.drop(columns=['Loan_Status'])  # Assuming 'Loan_Status' is the target variable\n",
    "y = df_imputed['Loan_Status']\n",
    "df_imputed\n",
    "\n"
   ]
  },
  {
   "cell_type": "code",
   "execution_count": 41,
   "id": "ab67877d",
   "metadata": {},
   "outputs": [
    {
     "name": "stdout",
     "output_type": "stream",
     "text": [
      "Random Forest Accuracy: 0.8455\n",
      "XGBoost Accuracy: 0.8049\n",
      "\n",
      "Best Model: RandomForestClassifier(max_depth=10, n_estimators=200, random_state=42)\n"
     ]
    }
   ],
   "source": [
    "# Step 4: Feature Scaling\n",
    "scaler = StandardScaler()\n",
    "X_scaled = scaler.fit_transform(X)\n",
    "\n",
    "# Step 5: Train-Test Split\n",
    "X_train, X_test, y_train, y_test = train_test_split(X_scaled, y, test_size=0.2, random_state=42, stratify=y)\n",
    "\n",
    "# Step 6: Model Selection & Training\n",
    "models = {\n",
    "    \"Random Forest\": RandomForestClassifier(n_estimators=200, max_depth=10, random_state=42),\n",
    "    \"XGBoost\": XGBClassifier(n_estimators=200, learning_rate=0.05, max_depth=6, random_state=42)\n",
    "}\n",
    "\n",
    "best_model = None\n",
    "best_score = 0\n",
    "\n",
    "for name, model in models.items():\n",
    "    model.fit(X_train, y_train)\n",
    "    y_pred = model.predict(X_test)\n",
    "    acc = accuracy_score(y_test, y_pred)\n",
    "    print(f\"{name} Accuracy: {acc:.4f}\")\n",
    "    \n",
    "    if acc > best_score:\n",
    "        best_score = acc\n",
    "        best_model = model\n",
    "\n",
    "print(\"\\nBest Model:\", best_model)\n"
   ]
  },
  {
   "cell_type": "code",
   "execution_count": 42,
   "id": "7e703bc0",
   "metadata": {},
   "outputs": [
    {
     "name": "stdout",
     "output_type": "stream",
     "text": [
      "\n",
      "Best Parameters: {'max_depth': 6, 'min_samples_leaf': 1, 'min_samples_split': 2, 'n_estimators': 100}\n"
     ]
    }
   ],
   "source": [
    "# Step 7: Hyperparameter Tuning (For Best Model)\n",
    "if isinstance(best_model, RandomForestClassifier):\n",
    "    param_grid = {\n",
    "        \"n_estimators\": [100, 200, 300],\n",
    "        \"max_depth\": [4, 6, 8],\n",
    "        \"min_samples_split\": [2, 5, 10],\n",
    "        \"min_samples_leaf\": [1, 2, 4]\n",
    "    }\n",
    "elif isinstance(best_model, XGBClassifier):\n",
    "    param_grid = {\n",
    "        \"n_estimators\": [100, 200, 300],\n",
    "        \"max_depth\": [4, 6, 8],\n",
    "        \"learning_rate\": [0.01, 0.05, 0.1],\n",
    "        \"subsample\": [0.8, 1.0]\n",
    "    }\n",
    "\n",
    "# Perform GridSearchCV\n",
    "grid_search = GridSearchCV(best_model, param_grid, scoring='accuracy', cv=5, n_jobs=-1)\n",
    "grid_search.fit(X_train, y_train)\n",
    "\n",
    "# Get the best model\n",
    "best_model = grid_search.best_estimator_\n",
    "print(\"\\nBest Parameters:\", grid_search.best_params_)\n"
   ]
  },
  {
   "cell_type": "code",
   "execution_count": 43,
   "id": "f5b3bad0",
   "metadata": {},
   "outputs": [
    {
     "name": "stdout",
     "output_type": "stream",
     "text": [
      "\n",
      "Classification Report:\n",
      "               precision    recall  f1-score   support\n",
      "\n",
      "           0       0.92      0.61      0.73        38\n",
      "           1       0.85      0.98      0.91        85\n",
      "\n",
      "    accuracy                           0.86       123\n",
      "   macro avg       0.88      0.79      0.82       123\n",
      "weighted avg       0.87      0.86      0.85       123\n",
      "\n",
      "Confusion Matrix:\n",
      " [[23 15]\n",
      " [ 2 83]]\n",
      "ROC AUC Score: 0.7908668730650155\n"
     ]
    }
   ],
   "source": [
    "# Step 8: Final Model Evaluation\n",
    "y_pred_final = best_model.predict(X_test)\n",
    "print(\"\\nClassification Report:\\n\", classification_report(y_test, y_pred_final))\n",
    "print(\"Confusion Matrix:\\n\", confusion_matrix(y_test, y_pred_final))\n",
    "print(\"ROC AUC Score:\", roc_auc_score(y_test, y_pred_final))\n",
    "\n"
   ]
  },
  {
   "cell_type": "code",
   "execution_count": 44,
   "id": "c0dced5f",
   "metadata": {},
   "outputs": [
    {
     "data": {
      "image/png": "[encoded data removed]",
      "text/plain": [
       "<Figure size 640x480 with 2 Axes>"
      ]
     },
     "metadata": {},
     "output_type": "display_data"
    }
   ],
   "source": [
    "# Step 9: Visualization\n",
    "sns.heatmap(confusion_matrix(y_test, y_pred_final), annot=True, fmt='d', cmap='Blues')\n",
    "plt.title(\"Confusion Matrix\")\n",
    "plt.xlabel(\"Predicted\")\n",
    "plt.ylabel(\"Actual\")\n",
    "plt.show()\n"
   ]
  },
  {
   "cell_type": "code",
   "execution_count": 52,
   "id": "d6da51f1",
   "metadata": {},
   "outputs": [
    {
     "name": "stdout",
     "output_type": "stream",
     "text": [
      "Loan Status Prediction: Rejected\n"
     ]
    },
    {
     "name": "stderr",
     "output_type": "stream",
     "text": [
      "C:\\Users\\rakes\\anaconda3\\Lib\\site-packages\\sklearn\\base.py:464: UserWarning: X does not have valid feature names, but StandardScaler was fitted with feature names\n",
      "  warnings.warn(\n"
     ]
    }
   ],
   "source": [
    "import numpy as np\n",
    "\n",
    "# Function to take user input and predict loan approval\n",
    "def predict_loan_status(input_data):\n",
    "    \"\"\"\n",
    "    Predicts loan approval based on user input.\n",
    "    :param input_data: List of feature values in correct order\n",
    "    :return: 'Approved' or 'Rejected'\n",
    "    \"\"\"\n",
    "    # Convert input data to NumPy array\n",
    "    input_array = np.array(input_data).reshape(1, -1)\n",
    "    \n",
    "    # Apply the same feature scaling used during training\n",
    "    input_scaled = scaler.transform(input_array)\n",
    "    \n",
    "    # Make prediction\n",
    "    prediction = best_model.predict(input_scaled)\n",
    "    \n",
    "    # Map result to readable output\n",
    "    result = \"Approved\" if prediction[0] == 1 else \"Rejected\"\n",
    "    return result\n",
    "\n",
    "# Example input data (Modify based on your dataset)\n",
    "# Format: [Feature1, Feature2, ..., FeatureN] in correct order\n",
    "example_input = [0,0,0,0,0,0,0,0,0,0]  # Modify as per dataset\n",
    "\n",
    "# Get prediction\n",
    "result = predict_loan_status(example_input)\n",
    "print(\"Loan Status Prediction:\", result)\n"
   ]
  },
  {
   "cell_type": "code",
   "execution_count": null,
   "id": "db00c54e",
   "metadata": {},
   "outputs": [],
   "source": []
  },
  {
   "cell_type": "code",
   "execution_count": null,
   "id": "1ae82382",
   "metadata": {},
   "outputs": [],
   "source": []
  }
 ],
 "metadata": {
  "kernelspec": {
   "display_name": "Python 3 (ipykernel)",
   "language": "python",
   "name": "python3"
  },
  "language_info": {
   "codemirror_mode": {
    "name": "ipython",
    "version": 3
   },
   "file_extension": ".py",
   "mimetype": "text/x-python",
   "name": "python",
   "nbconvert_exporter": "python",
   "pygments_lexer": "ipython3",
   "version": "3.11.5"
  }
 },
 "nbformat": 4,
 "nbformat_minor": 5
}
